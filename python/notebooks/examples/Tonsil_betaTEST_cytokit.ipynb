{
 "cells": [
  {
   "cell_type": "code",
   "execution_count": 1,
   "metadata": {},
   "outputs": [],
   "source": [
    "%matplotlib inline\n",
    "import os\n",
    "import tqdm\n",
    "import tempfile\n",
    "import numpy as np\n",
    "import urllib.request\n",
    "import os.path as osp\n",
    "import matplotlib.pyplot as plt\n",
    "from cytokit import io as ck_io\n",
    "from cytokit import config as ck_config\n",
    "from cytokit.function import data as ck_data\n",
    "from cytokit.image import proc as ck_img_proc"
   ]
  },
  {
   "cell_type": "code",
   "execution_count": 10,
   "metadata": {},
   "outputs": [
    {
     "name": "stdout",
     "output_type": "stream",
     "text": [
      "/home/erika/Documents/Projects/CODEX/Data/output\n"
     ]
    }
   ],
   "source": [
    "# Raw image directory (will be read-only after initial download)\n",
    "raw_dir  = \"/home/erika/Documents/Projects/CODEX/Data\"\n",
    "\n",
    "# Output directory (will contain all processed images, csvs, and fcs files)\n",
    "out_dir = osp.join(raw_dir, 'output')\n",
    "if not os.path.exists(out_dir):\n",
    "    os.makedirs(out_dir)\n"
   ]
  },
  {
   "cell_type": "markdown",
   "metadata": {},
   "source": [
    "## Configuration\n",
    "\n",
    "All Cytokit experiment configurations are represented as yaml documents and a typical use case involving these documents would be to define one \"template\" or \"base\" configuration for a project that contains all information likely to be shared across replicates or varying parameterizations in processing.  \n",
    "\n",
    "While it would be possible to manually create separate configuration files for each of these, the primary purpose of Cytokit is to make batch processing like this more manageable across many replicates and processing configurations.  To this end, the ```cytokit config editor``` command can be used to make small changes to a template configuration and an example of this is shown below.\n",
    "\n",
    "See [experiment_pha.yaml](https://github.com/hammerlab/cytokit/blob/ba73d8b7d9dd4b3286df8bd8afe22826bd7e44f9/pub/config/cellular-marker/experiment_pha.yaml) for more details on the base configuration being modified here.  Note below that nearly all the changes made to the configuration are related to defining a subset of the original experiment and in particular, ```index_symlinks``` provides a way to remap any of the indexes mentioned as required in image paths in the section above to a new range.  This is used below to select 7 of 25 z-planes (from index 14 to index 20) but could also be used to define tile or channel subsets as well:"
   ]
  },
  {
   "cell_type": "code",
   "execution_count": 16,
   "metadata": {},
   "outputs": [
    {
     "name": "stdout",
     "output_type": "stream",
     "text": [
      "Configuration values present under property \"acquisition.num_cycles\":\n",
      "4\n"
     ]
    },
    {
     "name": "stderr",
     "output_type": "stream",
     "text": [
      "2020-11-03 16:47:46,617:INFO:32105:cytokit.cli.config: Configuration saved to path \"/home/erika/Documents/Projects/CODEX/Data/output/v00/config/experiment.yaml\"\n"
     ]
    }
   ],
   "source": [
    "%%bash -s \"$out_dir\"\n",
    "\n",
    "# The config editor requires a base configuration as well as the target output location in which the resulting config should be stored.\n",
    "# The convention used (in our lab at least) is to name \"variants\" of an experiment with a tag like \"v00\" or \"v01\" where each represents\n",
    "# a different processing configuration and both the config file as well as all associated data will be stored in a directory named by that tag.\n",
    "#cytokit config editor --base-config-path=$HOME/github/cytokit/pub/config/cellular-marker/experiment_pha.yaml --output-dir=$1 \\\n",
    "cytokit config editor --base-config-path=$HOME/Documents/Projects/CODEX/Data/Tonsil_betaTEST_sfter2.yaml --output-dir=$1 \\\n",
    "set name 'Tonsil_betaTEST' \\\n",
    "show acquisition.num_cycles \\\n",
    "save_variant v00/config \\\n",
    "exit"
   ]
  },
  {
   "cell_type": "code",
   "execution_count": 17,
   "metadata": {
    "scrolled": true
   },
   "outputs": [
    {
     "name": "stdout",
     "output_type": "stream",
     "text": [
      "acquisition:\r\n",
      "  axial_resolution: 1500.0\r\n",
      "  channel_names:\r\n",
      "  - DAPI\r\n",
      "  - blank\r\n",
      "  - blank\r\n",
      "  - blank\r\n",
      "  - DAPI\r\n",
      "  - cy3-ki67\r\n",
      "  - cy5-CD107a\r\n",
      "  - cy7-CD20\r\n",
      "  - DAPI\r\n",
      "  - cy3-cd8\r\n",
      "  - cy5-CD45a\r\n",
      "  - cy7-PanCK\r\n",
      "  - DAPI\r\n",
      "  - blank\r\n",
      "  - blank\r\n",
      "  - blank\r\n",
      "  emission_wavelengths:\r\n",
      "  - 465\r\n",
      "  - 561\r\n",
      "  - 673\r\n",
      "  - 773\r\n",
      "  lateral_resolution: 325.0\r\n",
      "  magnification: 20\r\n"
     ]
    }
   ],
   "source": [
    "# Show part of the resulting config, primarily with the fields modified specifically for this example\n",
    "!cat $out_dir/v00/config/experiment.yaml | head -n 26"
   ]
  },
  {
   "cell_type": "markdown",
   "metadata": {},
   "source": [
    "---\n",
    "\n",
    "## Processing\n",
    "\n",
    "There are generally 3 stages related to processing an experiment that need to be run and each has a separate CLI:\n",
    "\n",
    "- **processor** - This is the main pipeline responsible for all image pre-processing and segmentation\n",
    "- **operator** - This application is used to build image extractions or montages for relevant subsets of the ```processor``` outputs (multiplexed imaging experiments are often far too large to visualize/analyze all at once with external applications like ImageJ)\n",
    "- **analysis** - This application is used to run template notebooks or numeric data aggregations \n",
    "\n",
    "While it is possible to parameterize these CLI commands individually (which is useful for ad-hoc operations), a more common use case is to define what they do and how they do it in the configuration file and simply execute the \"run_all\" command.  This acts as a way to move common operations to read-only locations for reproducibility and documentation.\n",
    "\n",
    "For example, below is the usage for the ```cytokit processor run``` command which takes many possible arguments:"
   ]
  },
  {
   "cell_type": "code",
   "execution_count": 18,
   "metadata": {},
   "outputs": [
    {
     "name": "stdout",
     "output_type": "stream",
     "text": [
      "\u001b[1mNAME\u001b[0m\r\n",
      "    cytokit processor run --config-path=/home/erika/Documents/Projects/CODEX/Data/output/v00/config run - Run processing and cytometry pipeline\r\n",
      "\r\n",
      "\u001b[1mSYNOPSIS\u001b[0m\r\n",
      "    cytokit processor run --config-path=/home/erika/Documents/Projects/CODEX/Data/output/v00/config run \u001b[4mOUTPUT_DIR\u001b[0m <flags>\r\n",
      "\r\n",
      "\u001b[1mDESCRIPTION\u001b[0m\r\n",
      "    This application can execute the following operations on either raw or already processed data:\r\n",
      "        - Drift compensation\r\n",
      "        - Deconvolution\r\n",
      "        - Selection of best focal planes within z-stacks\r\n",
      "        - Cropping of tile overlap\r\n",
      "        - Cell segmentation and quantification\r\n",
      "        - Illumination correction\r\n",
      "        - Spectral Unmixing\r\n",
      "\r\n",
      "    Nothing beyond an input data directory and an output directory are required (see arguments\r\n",
      "    below), but GPU information should be provided via the `gpus` argument to ensure that\r\n",
      "    all present devices are utilized.  Otherwise, all arguments have reasonable defaults that\r\n",
      "    should only need to be changed in special scenarios.\r\n",
      "\r\n",
      "\u001b[1mPOSITIONAL ARGUMENTS\u001b[0m\r\n",
      "    \u001b[1m\u001b[4mOUTPUT_DIR\u001b[0m\u001b[0m\r\n",
      "        Directory to save results in; will be created if it does not exist\r\n",
      "\r\n",
      "\u001b[1mFLAGS\u001b[0m\r\n",
      "    --region_indexes=\u001b[4mREGION_INDEXES\u001b[0m\r\n",
      "        1-based sequence of region indexes to process; can be specified as:\r\n",
      "    --tile_indexes=\u001b[4mTILE_INDEXES\u001b[0m\r\n",
      "        1-based sequence of tile indexes to process; has same semantics as `region_indexes`\r\n",
      "    --n_workers=\u001b[4mN_WORKERS\u001b[0m\r\n",
      "        Number of tiles to process in parallel; should generally match number of gpus and if the `gpus` argument is given, then the length of that list will be used as a default (otherwise default is 1)\r\n",
      "    --gpus=\u001b[4mGPUS\u001b[0m\r\n",
      "        0-based list of gpu indexes to use for processing; has same semantics as other integer list arguments like `region_indexes` and `tile_indexes` (i.e. can be a scalar, list, or 2-tuple)\r\n",
      "    --memory_limit=\u001b[4mMEMORY_LIMIT\u001b[0m\r\n",
      "        Maximum amount of memory to allow per-worker; defaults to 48G\r\n",
      "    --tile_prefetch_capacity=\u001b[4mTILE_PREFETCH_CAPACITY\u001b[0m\r\n",
      "        Number of input tiles to buffer into memory for processing; default is 1 which is nearly always good as this means one tile will undergo processing while a second is buffered into memory asynchronously\r\n",
      "    --run_tile_generator=\u001b[4mRUN_TILE_GENERATOR\u001b[0m\r\n",
      "        Flag indicating whether or not the source data to be processed is from un-assembled single images (typically raw microscope images) or from already assembled tiles (which would be the case if this pipeline has already been run once on raw source data)\r\n",
      "    --run_crop=\u001b[4mRUN_CROP\u001b[0m\r\n",
      "        Flag indicating whether or not overlapping pixels in raw images should be cropped off; this should generally only apply to raw images but will have no effect if images already appear to be cropped (though an annoying warning will be printed in that case so this should be set to False if not running on raw images with overlap)\r\n",
      "    --run_resize=\u001b[4mRUN_RESIZE\u001b[0m\r\n",
      "        Flag indicating whether or not 3D images should be resized for all further processing; if `run_crop` is True then this will operate on cropped volumes.  This can be useful for downsampling images to accelerate later steps like deconvolution\r\n",
      "    --run_deconvolution=\u001b[4mRUN_DECONVOLUTION\u001b[0m\r\n",
      "        Flag indicating whether or not to run deconvolution\r\n",
      "    --run_best_focus=\u001b[4mRUN_BEST_FOCUS\u001b[0m\r\n",
      "        Flag indicating that best focal plan selection operations should be executed\r\n",
      "    --run_drift_comp=\u001b[4mRUN_DRIFT_COMP\u001b[0m\r\n",
      "        Flag indicating that drift compensation should be executed\r\n",
      "    --run_summary=\u001b[4mRUN_SUMMARY\u001b[0m\r\n",
      "        Flag indicating that tile summary statistics should be computed (eg mean, max, min, etc)\r\n",
      "    --run_cytometry=\u001b[4mRUN_CYTOMETRY\u001b[0m\r\n",
      "        Flag indicating whether or not image tiles should be segmented and quantified\r\n",
      "    --run_illumination_correction=\u001b[4mRUN_ILLUMINATION_CORRECTION\u001b[0m\r\n",
      "        Flag indicating whether or not image tiles and cytometry data should be adjusted according to global illumination patterns across entire regions\r\n",
      "    --run_spectral_unmixing=\u001b[4mRUN_SPECTRAL_UNMIXING\u001b[0m\r\n",
      "        Flag indicating whether or not cross-talk between fluorescent channels should be corrected via blind spectral unmixing\r\n",
      "    --record_execution=\u001b[4mRECORD_EXECUTION\u001b[0m\r\n",
      "        Flag indicating whether or not to store arguments and environment in a file within the output directory; defaults to True\r\n",
      "\r\n",
      "\u001b[1mNOTES\u001b[0m\r\n",
      "    You can also use flags syntax for POSITIONAL ARGUMENTS\r\n"
     ]
    }
   ],
   "source": [
    "!cytokit processor --config-path=$out_dir/v00/config --data-dir=$raw_dir run -- --help"
   ]
  },
  {
   "cell_type": "code",
   "execution_count": 19,
   "metadata": {},
   "outputs": [],
   "source": [
    "# Show configuration fields with processor arguments\n",
    "!cat $out_dir/v00/config/experiment.yaml | grep -A 6 processor"
   ]
  },
  {
   "cell_type": "code",
   "execution_count": null,
   "metadata": {},
   "outputs": [],
   "source": []
  }
 ],
 "metadata": {
  "kernelspec": {
   "display_name": "codex-env",
   "language": "python",
   "name": "codex-env"
  },
  "language_info": {
   "codemirror_mode": {
    "name": "ipython",
    "version": 3
   },
   "file_extension": ".py",
   "mimetype": "text/x-python",
   "name": "python",
   "nbconvert_exporter": "python",
   "pygments_lexer": "ipython3",
   "version": "3.7.9"
  }
 },
 "nbformat": 4,
 "nbformat_minor": 4
}
